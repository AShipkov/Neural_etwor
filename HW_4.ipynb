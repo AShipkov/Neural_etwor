{
 "cells": [
  {
   "cell_type": "markdown",
   "metadata": {},
   "source": [
    "## Вариант 2. \n",
    "- реализовать нейронную сеть или стек из сверток (Concatenate) на сifar10.  \n",
    "- оценить рост точности при увеличении ширины сети (больше ядер), больше нитей.  \n",
    "- оценить рост точности при увеличении глубины сети (больше слоев)  "
   ]
  },
  {
   "cell_type": "code",
   "execution_count": 1,
   "metadata": {},
   "outputs": [],
   "source": [
    "import numpy as np\n",
    "import pandas as pd\n",
    "import matplotlib.pyplot as plt\n",
    "from tensorflow.keras.models import Model\n",
    "from tensorflow.keras.datasets import cifar10\n",
    "from tensorflow.keras.preprocessing.image import ImageDataGenerator\n",
    "from tensorflow.keras.utils import to_categorical\n",
    "from tensorflow.keras.models import Sequential\n",
    "from tensorflow.keras.layers import Input, Dense, Dropout, Activation, Flatten\n",
    "from tensorflow.keras.layers import Conv2D, MaxPooling2D"
   ]
  },
  {
   "cell_type": "code",
   "execution_count": 2,
   "metadata": {},
   "outputs": [],
   "source": [
    "classes = ['самолет', 'автомобиль', 'птица', 'кот', 'олень', 'собака', 'лягушка', 'лошадь', 'корабль', 'грузовик']"
   ]
  },
  {
   "cell_type": "code",
   "execution_count": 3,
   "metadata": {},
   "outputs": [
    {
     "name": "stdout",
     "output_type": "stream",
     "text": [
      "X_train shape: (50000, 32, 32, 3)\n",
      "50000 тренировочные примеры\n",
      "10000 тестовые примеры\n"
     ]
    }
   ],
   "source": [
    "# разделение тренировочной и тестовой выборки\n",
    "(X_train, y_train), (X_test, y_test) = cifar10.load_data()\n",
    "print('X_train shape:', X_train.shape)\n",
    "print(X_train.shape[0], 'тренировочные примеры')\n",
    "print(X_test.shape[0], 'тестовые примеры')\n",
    "\n",
    "# преобразование матрицы чисел 0-9 в бинарную матрицу чисел 0-1\n",
    "y_train = to_categorical(y_train, 10)\n",
    "y_test = to_categorical(y_test, 10)\n",
    "\n",
    "X_train = X_train / 255.0\n",
    "X_test = X_test / 255.0"
   ]
  },
  {
   "cell_type": "code",
   "execution_count": 4,
   "metadata": {},
   "outputs": [
    {
     "data": {
      "image/png": "[encoded data removed]",
      "text/plain": [
       "<Figure size 432x288 with 1 Axes>"
      ]
     },
     "metadata": {
      "needs_background": "light"
     },
     "output_type": "display_data"
    }
   ],
   "source": [
    "N = 10\n",
    "plt.imshow(X_test[N])\n",
    "plt.title(classes[np.argmax(y_test[N,:])])\n",
    "plt.show()"
   ]
  },
  {
   "cell_type": "code",
   "execution_count": 5,
   "metadata": {},
   "outputs": [],
   "source": [
    "score = pd.DataFrame(columns=['Модель', 'Train', 'Test', 'loss', 'accuracy'])\n",
    "batch_size = 512\n",
    "epochs = 10"
   ]
  },
  {
   "cell_type": "code",
   "execution_count": 6,
   "metadata": {},
   "outputs": [
    {
     "name": "stdout",
     "output_type": "stream",
     "text": [
      "Model: \"sequential\"\n",
      "_________________________________________________________________\n",
      "Layer (type)                 Output Shape              Param #   \n",
      "=================================================================\n",
      "conv2d (Conv2D)              (None, 32, 32, 32)        896       \n",
      "_________________________________________________________________\n",
      "conv2d_1 (Conv2D)            (None, 30, 30, 32)        9248      \n",
      "_________________________________________________________________\n",
      "max_pooling2d (MaxPooling2D) (None, 15, 15, 32)        0         \n",
      "_________________________________________________________________\n",
      "conv2d_2 (Conv2D)            (None, 15, 15, 64)        18496     \n",
      "_________________________________________________________________\n",
      "conv2d_3 (Conv2D)            (None, 13, 13, 64)        36928     \n",
      "_________________________________________________________________\n",
      "max_pooling2d_1 (MaxPooling2 (None, 6, 6, 64)          0         \n",
      "_________________________________________________________________\n",
      "flatten (Flatten)            (None, 2304)              0         \n",
      "_________________________________________________________________\n",
      "dense (Dense)                (None, 512)               1180160   \n",
      "_________________________________________________________________\n",
      "dense_1 (Dense)              (None, 10)                5130      \n",
      "=================================================================\n",
      "Total params: 1,250,858\n",
      "Trainable params: 1,250,858\n",
      "Non-trainable params: 0\n",
      "_________________________________________________________________\n"
     ]
    }
   ],
   "source": [
    "# конфигурирование слоев нейросети\n",
    "model = Sequential()\n",
    "\n",
    "# слои нейросети отвественные за свертку и max-pooling\n",
    "model.add(Conv2D(32, (3, 3), activation='relu', padding='same', input_shape=X_train.shape[1:]))\n",
    "model.add(Conv2D(32, (3, 3), activation='relu'))\n",
    "model.add(MaxPooling2D(pool_size=(2, 2)))\n",
    "\n",
    "model.add(Conv2D(64, (3, 3), activation='relu', padding='same'))\n",
    "model.add(Conv2D(64, (3, 3), activation='relu'))\n",
    "model.add(MaxPooling2D(pool_size=(2, 2)))\n",
    "\n",
    "# полносвязные слои нейронной сети\n",
    "model.add(Flatten())\n",
    "model.add(Dense(512, activation='relu'))\n",
    "model.add(Dense(10, activation='softmax'))\n",
    "\n",
    "model.summary()\n",
    "# компиляция модели\n",
    "model.compile(loss='categorical_crossentropy',\n",
    "              optimizer='SGD',\n",
    "              metrics=['accuracy'])"
   ]
  },
  {
   "cell_type": "code",
   "execution_count": 7,
   "metadata": {},
   "outputs": [
    {
     "name": "stdout",
     "output_type": "stream",
     "text": [
      "Epoch 1/10\n",
      "98/98 [==============================] - 242s 2s/step - loss: 2.2989 - accuracy: 0.1089 - val_loss: 2.2806 - val_accuracy: 0.1527\n",
      "Epoch 2/10\n",
      "98/98 [==============================] - 189s 2s/step - loss: 2.2689 - accuracy: 0.1542 - val_loss: 2.2048 - val_accuracy: 0.1890\n",
      "Epoch 3/10\n",
      "98/98 [==============================] - 158s 2s/step - loss: 2.1591 - accuracy: 0.2306 - val_loss: 2.1312 - val_accuracy: 0.2250\n",
      "Epoch 4/10\n",
      "98/98 [==============================] - 173s 2s/step - loss: 2.0509 - accuracy: 0.2638 - val_loss: 1.9648 - val_accuracy: 0.2983\n",
      "Epoch 5/10\n",
      "98/98 [==============================] - 145s 1s/step - loss: 1.9713 - accuracy: 0.2988 - val_loss: 1.9174 - val_accuracy: 0.3150\n",
      "Epoch 6/10\n",
      "98/98 [==============================] - 132s 1s/step - loss: 1.9286 - accuracy: 0.3195 - val_loss: 1.8828 - val_accuracy: 0.3222\n",
      "Epoch 7/10\n",
      "98/98 [==============================] - 133s 1s/step - loss: 1.8754 - accuracy: 0.3378 - val_loss: 1.8936 - val_accuracy: 0.3389\n",
      "Epoch 8/10\n",
      "98/98 [==============================] - 133s 1s/step - loss: 1.8481 - accuracy: 0.3456 - val_loss: 1.8471 - val_accuracy: 0.3429\n",
      "Epoch 9/10\n",
      "98/98 [==============================] - 133s 1s/step - loss: 1.8141 - accuracy: 0.3576 - val_loss: 1.7842 - val_accuracy: 0.3698\n",
      "Epoch 10/10\n",
      "98/98 [==============================] - 132s 1s/step - loss: 1.7880 - accuracy: 0.3689 - val_loss: 1.7268 - val_accuracy: 0.3839\n"
     ]
    },
    {
     "data": {
      "text/plain": [
       "<tensorflow.python.keras.callbacks.History at 0x7fc47061d100>"
      ]
     },
     "execution_count": 7,
     "metadata": {},
     "output_type": "execute_result"
    }
   ],
   "source": [
    "model.fit(X_train, y_train,\n",
    "              batch_size=batch_size,\n",
    "              epochs=epochs,\n",
    "              validation_data=(X_test, y_test),\n",
    "              shuffle=True)"
   ]
  },
  {
   "cell_type": "code",
   "execution_count": 8,
   "metadata": {},
   "outputs": [
    {
     "name": "stdout",
     "output_type": "stream",
     "text": [
      "313/313 [==============================] - 7s 22ms/step - loss: 1.7268 - accuracy: 0.3839\n",
      "Test loss: 1.7267812490463257\n",
      "Test accuracy: 0.383899986743927\n"
     ]
    }
   ],
   "source": [
    "# проверка работы обученной модели\n",
    "scores = model.evaluate(X_test, y_test, verbose=1)\n",
    "print('Test loss:', scores[0])\n",
    "print('Test accuracy:', scores[1])\n",
    "\n",
    "y_p = model.predict(X_test[N:N+1])\n",
    "y_t = np.argmax(y_test[N:N+1], axis = 1 )\n",
    "y_i = np.argmax(y_p, axis = 1 )\n",
    "\n",
    "new_row = {'Модель':'CNN базовая', 'Train':classes[y_t[0]], 'Test': classes[y_i[0]], \\\n",
    "           'loss':round(scores[0], 4), 'accuracy':round(scores[1], 4)}\n",
    "\n",
    "score = score.append(new_row, ignore_index=True)"
   ]
  },
  {
   "cell_type": "markdown",
   "metadata": {},
   "source": [
    "- оценить рост точности при увеличении ширины сети (больше ядер), больше нитей."
   ]
  },
  {
   "cell_type": "code",
   "execution_count": 9,
   "metadata": {},
   "outputs": [
    {
     "name": "stdout",
     "output_type": "stream",
     "text": [
      "Model: \"sequential_1\"\n",
      "_________________________________________________________________\n",
      "Layer (type)                 Output Shape              Param #   \n",
      "=================================================================\n",
      "conv2d_4 (Conv2D)            (None, 32, 32, 32)        896       \n",
      "_________________________________________________________________\n",
      "conv2d_5 (Conv2D)            (None, 30, 30, 32)        9248      \n",
      "_________________________________________________________________\n",
      "max_pooling2d_2 (MaxPooling2 (None, 15, 15, 32)        0         \n",
      "_________________________________________________________________\n",
      "conv2d_6 (Conv2D)            (None, 15, 15, 128)       36992     \n",
      "_________________________________________________________________\n",
      "conv2d_7 (Conv2D)            (None, 13, 13, 128)       147584    \n",
      "_________________________________________________________________\n",
      "max_pooling2d_3 (MaxPooling2 (None, 6, 6, 128)         0         \n",
      "_________________________________________________________________\n",
      "flatten_1 (Flatten)          (None, 4608)              0         \n",
      "_________________________________________________________________\n",
      "dense_2 (Dense)              (None, 512)               2359808   \n",
      "_________________________________________________________________\n",
      "dense_3 (Dense)              (None, 10)                5130      \n",
      "=================================================================\n",
      "Total params: 2,559,658\n",
      "Trainable params: 2,559,658\n",
      "Non-trainable params: 0\n",
      "_________________________________________________________________\n"
     ]
    }
   ],
   "source": [
    "# конфигурирование слоев нейросети\n",
    "model1 = Sequential()\n",
    "\n",
    "# слои нейросети отвественные за свертку и max-pooling\n",
    "model1.add(Conv2D(32, (3, 3), activation='relu', padding='same', input_shape=X_train.shape[1:]))\n",
    "model1.add(Conv2D(32, (3, 3), activation='relu'))\n",
    "model1.add(MaxPooling2D(pool_size=(2, 2)))\n",
    "\n",
    "model1.add(Conv2D(128, (3, 3), activation='relu', padding='same'))\n",
    "model1.add(Conv2D(128, (3, 3), activation='relu'))\n",
    "model1.add(MaxPooling2D(pool_size=(2, 2)))\n",
    "\n",
    "# полносвязные слои нейронной сети\n",
    "model1.add(Flatten())\n",
    "model1.add(Dense(512, activation='relu'))\n",
    "model1.add(Dense(10, activation='softmax'))\n",
    "\n",
    "model1.summary()\n",
    "# компиляция модели\n",
    "model1.compile(loss='categorical_crossentropy',\n",
    "              optimizer='SGD',\n",
    "              metrics=['accuracy'])"
   ]
  },
  {
   "cell_type": "code",
   "execution_count": 10,
   "metadata": {},
   "outputs": [
    {
     "name": "stdout",
     "output_type": "stream",
     "text": [
      "Epoch 1/10\n",
      "98/98 [==============================] - 239s 2s/step - loss: 2.3040 - accuracy: 0.1089 - val_loss: 2.2875 - val_accuracy: 0.1409\n",
      "Epoch 2/10\n",
      "98/98 [==============================] - 247s 3s/step - loss: 2.2802 - accuracy: 0.1457 - val_loss: 2.2434 - val_accuracy: 0.2060\n",
      "Epoch 3/10\n",
      "98/98 [==============================] - 230s 2s/step - loss: 2.2120 - accuracy: 0.2253 - val_loss: 2.0781 - val_accuracy: 0.2531\n",
      "Epoch 4/10\n",
      "98/98 [==============================] - 251s 3s/step - loss: 2.0903 - accuracy: 0.2500 - val_loss: 1.9692 - val_accuracy: 0.2908\n",
      "Epoch 5/10\n",
      "98/98 [==============================] - 245s 3s/step - loss: 1.9858 - accuracy: 0.2895 - val_loss: 1.9584 - val_accuracy: 0.2994\n",
      "Epoch 6/10\n",
      "98/98 [==============================] - 255s 3s/step - loss: 1.9534 - accuracy: 0.3013 - val_loss: 1.8743 - val_accuracy: 0.3413\n",
      "Epoch 7/10\n",
      "98/98 [==============================] - 258s 3s/step - loss: 1.8897 - accuracy: 0.3267 - val_loss: 1.8371 - val_accuracy: 0.3388\n",
      "Epoch 8/10\n",
      "98/98 [==============================] - 228s 2s/step - loss: 1.8559 - accuracy: 0.3390 - val_loss: 1.7991 - val_accuracy: 0.3596\n",
      "Epoch 9/10\n",
      "98/98 [==============================] - 271s 3s/step - loss: 1.8115 - accuracy: 0.3539 - val_loss: 1.7842 - val_accuracy: 0.3589\n",
      "Epoch 10/10\n",
      "98/98 [==============================] - 260s 3s/step - loss: 1.7800 - accuracy: 0.3697 - val_loss: 1.7358 - val_accuracy: 0.3820\n"
     ]
    },
    {
     "data": {
      "text/plain": [
       "<tensorflow.python.keras.callbacks.History at 0x7fc470a2c1c0>"
      ]
     },
     "execution_count": 10,
     "metadata": {},
     "output_type": "execute_result"
    }
   ],
   "source": [
    "model1.fit(X_train, y_train,\n",
    "              batch_size=batch_size,\n",
    "              epochs=epochs,\n",
    "              validation_data=(X_test, y_test),\n",
    "              shuffle=True)"
   ]
  },
  {
   "cell_type": "code",
   "execution_count": 11,
   "metadata": {},
   "outputs": [
    {
     "name": "stdout",
     "output_type": "stream",
     "text": [
      "313/313 [==============================] - 17s 54ms/step - loss: 1.7358 - accuracy: 0.3820\n",
      "Test loss: 1.735841989517212\n",
      "Test accuracy: 0.38199999928474426\n"
     ]
    }
   ],
   "source": [
    "# проверка работы обученной модели\n",
    "scores = model1.evaluate(X_test, y_test, verbose=1)\n",
    "print('Test loss:', scores[0])\n",
    "print('Test accuracy:', scores[1])\n",
    "\n",
    "y_p = model1.predict(X_test[N:N+1])\n",
    "y_t = np.argmax(y_test[N:N+1], axis = 1 )\n",
    "y_i = np.argmax(y_p, axis = 1 )\n",
    "new_row = {'Модель':'CNN c увеличением каналов', 'Train':classes[y_t[0]], 'Test': classes[y_i[0]], \\\n",
    "           'loss':round(scores[0], 4), 'accuracy':round(scores[1], 4)}\n",
    "score = score.append(new_row, ignore_index=True)"
   ]
  },
  {
   "cell_type": "markdown",
   "metadata": {},
   "source": [
    "- оценить рост точности при увеличении глубины сети (больше слоев)"
   ]
  },
  {
   "cell_type": "code",
   "execution_count": 12,
   "metadata": {},
   "outputs": [
    {
     "name": "stdout",
     "output_type": "stream",
     "text": [
      "Model: \"sequential_2\"\n",
      "_________________________________________________________________\n",
      "Layer (type)                 Output Shape              Param #   \n",
      "=================================================================\n",
      "conv2d_8 (Conv2D)            (None, 32, 32, 32)        896       \n",
      "_________________________________________________________________\n",
      "conv2d_9 (Conv2D)            (None, 30, 30, 32)        9248      \n",
      "_________________________________________________________________\n",
      "max_pooling2d_4 (MaxPooling2 (None, 15, 15, 32)        0         \n",
      "_________________________________________________________________\n",
      "conv2d_10 (Conv2D)           (None, 15, 15, 64)        18496     \n",
      "_________________________________________________________________\n",
      "conv2d_11 (Conv2D)           (None, 13, 13, 64)        36928     \n",
      "_________________________________________________________________\n",
      "max_pooling2d_5 (MaxPooling2 (None, 6, 6, 64)          0         \n",
      "_________________________________________________________________\n",
      "conv2d_12 (Conv2D)           (None, 6, 6, 128)         73856     \n",
      "_________________________________________________________________\n",
      "conv2d_13 (Conv2D)           (None, 4, 4, 128)         147584    \n",
      "_________________________________________________________________\n",
      "max_pooling2d_6 (MaxPooling2 (None, 2, 2, 128)         0         \n",
      "_________________________________________________________________\n",
      "flatten_2 (Flatten)          (None, 512)               0         \n",
      "_________________________________________________________________\n",
      "dense_4 (Dense)              (None, 512)               262656    \n",
      "_________________________________________________________________\n",
      "dense_5 (Dense)              (None, 10)                5130      \n",
      "=================================================================\n",
      "Total params: 554,794\n",
      "Trainable params: 554,794\n",
      "Non-trainable params: 0\n",
      "_________________________________________________________________\n"
     ]
    }
   ],
   "source": [
    "# конфигурирование слоев нейросети\n",
    "model2 = Sequential()\n",
    "\n",
    "# слои нейросети отвественные за свертку и max-pooling\n",
    "model2.add(Conv2D(32, (3, 3), activation='relu', padding='same', input_shape=X_train.shape[1:]))\n",
    "model2.add(Conv2D(32, (3, 3), activation='relu'))\n",
    "model2.add(MaxPooling2D(pool_size=(2, 2)))\n",
    "\n",
    "model2.add(Conv2D(64, (3, 3), activation='relu', padding='same'))\n",
    "model2.add(Conv2D(64, (3, 3), activation='relu'))\n",
    "model2.add(MaxPooling2D(pool_size=(2, 2)))\n",
    "\n",
    "model2.add(Conv2D(128, (3, 3), activation='relu', padding='same'))\n",
    "model2.add(Conv2D(128, (3, 3), activation='relu'))\n",
    "model2.add(MaxPooling2D(pool_size=(2, 2)))\n",
    "\n",
    "# полносвязные слои нейронной сети\n",
    "model2.add(Flatten())\n",
    "model2.add(Dense(512, activation='relu'))\n",
    "model2.add(Dense(10, activation='softmax'))\n",
    "\n",
    "model2.summary()\n",
    "# компиляция модели\n",
    "model2.compile(loss='categorical_crossentropy',\n",
    "              optimizer='SGD',\n",
    "              metrics=['accuracy'])"
   ]
  },
  {
   "cell_type": "code",
   "execution_count": 13,
   "metadata": {},
   "outputs": [
    {
     "name": "stdout",
     "output_type": "stream",
     "text": [
      "Epoch 1/10\n",
      "98/98 [==============================] - 158s 2s/step - loss: 2.3028 - accuracy: 0.1293 - val_loss: 2.3010 - val_accuracy: 0.1611\n",
      "Epoch 2/10\n",
      "98/98 [==============================] - 161s 2s/step - loss: 2.3004 - accuracy: 0.1706 - val_loss: 2.2985 - val_accuracy: 0.1901\n",
      "Epoch 3/10\n",
      "98/98 [==============================] - 149s 2s/step - loss: 2.2977 - accuracy: 0.1874 - val_loss: 2.2946 - val_accuracy: 0.1987\n",
      "Epoch 4/10\n",
      "98/98 [==============================] - 150s 2s/step - loss: 2.2929 - accuracy: 0.1896 - val_loss: 2.2862 - val_accuracy: 0.1906\n",
      "Epoch 5/10\n",
      "98/98 [==============================] - 150s 2s/step - loss: 2.2818 - accuracy: 0.1873 - val_loss: 2.2625 - val_accuracy: 0.1937\n",
      "Epoch 6/10\n",
      "98/98 [==============================] - 186s 2s/step - loss: 2.2495 - accuracy: 0.1882 - val_loss: 2.1798 - val_accuracy: 0.1983\n",
      "Epoch 7/10\n",
      "98/98 [==============================] - 177s 2s/step - loss: 2.1634 - accuracy: 0.2071 - val_loss: 2.1635 - val_accuracy: 0.1956\n",
      "Epoch 8/10\n",
      "98/98 [==============================] - 176s 2s/step - loss: 2.1001 - accuracy: 0.2299 - val_loss: 2.0466 - val_accuracy: 0.2570\n",
      "Epoch 9/10\n",
      "98/98 [==============================] - 154s 2s/step - loss: 2.0488 - accuracy: 0.2480 - val_loss: 1.9810 - val_accuracy: 0.2778\n",
      "Epoch 10/10\n",
      "98/98 [==============================] - 151s 2s/step - loss: 2.0036 - accuracy: 0.2677 - val_loss: 1.9613 - val_accuracy: 0.2900\n"
     ]
    },
    {
     "data": {
      "text/plain": [
       "<tensorflow.python.keras.callbacks.History at 0x7fc38bdb6b50>"
      ]
     },
     "execution_count": 13,
     "metadata": {},
     "output_type": "execute_result"
    }
   ],
   "source": [
    "model2.fit(X_train, y_train,\n",
    "              batch_size=batch_size,\n",
    "              epochs=epochs,\n",
    "              validation_data=(X_test, y_test),\n",
    "              shuffle=True)"
   ]
  },
  {
   "cell_type": "code",
   "execution_count": 14,
   "metadata": {},
   "outputs": [
    {
     "name": "stdout",
     "output_type": "stream",
     "text": [
      "313/313 [==============================] - 8s 26ms/step - loss: 1.9613 - accuracy: 0.2900\n",
      "Test loss: 1.9613115787506104\n",
      "Test accuracy: 0.28999999165534973\n"
     ]
    }
   ],
   "source": [
    "# проверка работы обученной модели\n",
    "scores = model2.evaluate(X_test, y_test, verbose=1)\n",
    "print('Test loss:', scores[0])\n",
    "print('Test accuracy:', scores[1])\n",
    "\n",
    "y_p = model2.predict(X_test[N:N+1])\n",
    "y_t = np.argmax(y_test[N:N+1], axis = 1 )\n",
    "y_i = np.argmax(y_p, axis = 1 )\n",
    "new_row = {'Модель':'CNN c увеличением слоев', 'Train':classes[y_t[0]], 'Test': classes[y_i[0]], \\\n",
    "           'loss':round(scores[0], 4), 'accuracy':round(scores[1], 4)}\n",
    "score = score.append(new_row, ignore_index=True)"
   ]
  },
  {
   "cell_type": "markdown",
   "metadata": {},
   "source": [
    "- сравнить с точностью полносвязной сети для этой выборки"
   ]
  },
  {
   "cell_type": "code",
   "execution_count": 15,
   "metadata": {},
   "outputs": [
    {
     "name": "stdout",
     "output_type": "stream",
     "text": [
      "Model: \"model\"\n",
      "_________________________________________________________________\n",
      "Layer (type)                 Output Shape              Param #   \n",
      "=================================================================\n",
      "input_1 (InputLayer)         [(None, 32, 32, 3)]       0         \n",
      "_________________________________________________________________\n",
      "flatten_3 (Flatten)          (None, 3072)              0         \n",
      "_________________________________________________________________\n",
      "dense_6 (Dense)              (None, 512)               1573376   \n",
      "_________________________________________________________________\n",
      "dense_7 (Dense)              (None, 256)               131328    \n",
      "_________________________________________________________________\n",
      "dense_8 (Dense)              (None, 128)               32896     \n",
      "_________________________________________________________________\n",
      "dense_9 (Dense)              (None, 32)                4128      \n",
      "_________________________________________________________________\n",
      "dense_10 (Dense)             (None, 10)                330       \n",
      "=================================================================\n",
      "Total params: 1,742,058\n",
      "Trainable params: 1,742,058\n",
      "Non-trainable params: 0\n",
      "_________________________________________________________________\n"
     ]
    }
   ],
   "source": [
    "inputs = Input(shape=(32, 32, 3))\n",
    "x = Flatten()(inputs)\n",
    "x_1 = Dense(512, activation='relu')(x)\n",
    "x_2 = Dense(256, activation='relu')(x_1)\n",
    "x_3 = Dense(128, activation='relu')(x_2)\n",
    "x_4 = Dense(32, activation='relu')(x_3)\n",
    "outputs = Dense(10)(x_4)\n",
    "    \n",
    "model3 = Model(inputs, outputs)\n",
    "model3.summary()\n",
    "\n",
    "model3.compile(loss='categorical_crossentropy',\n",
    "              optimizer='SGD',\n",
    "              metrics=['accuracy'])"
   ]
  },
  {
   "cell_type": "code",
   "execution_count": 16,
   "metadata": {},
   "outputs": [
    {
     "name": "stdout",
     "output_type": "stream",
     "text": [
      "Epoch 1/10\n",
      "98/98 [==============================] - 13s 107ms/step - loss: 7.9303 - accuracy: 0.1017 - val_loss: 8.9294 - val_accuracy: 0.1000\n",
      "Epoch 2/10\n",
      "98/98 [==============================] - 8s 80ms/step - loss: 8.8673 - accuracy: 0.1000 - val_loss: 9.1390 - val_accuracy: 0.1000\n",
      "Epoch 3/10\n",
      "98/98 [==============================] - 6s 65ms/step - loss: 9.1118 - accuracy: 0.0979 - val_loss: 9.2131 - val_accuracy: 0.1000\n",
      "Epoch 4/10\n",
      "98/98 [==============================] - 9s 93ms/step - loss: 9.2861 - accuracy: 0.0984 - val_loss: 9.3001 - val_accuracy: 0.1000\n",
      "Epoch 5/10\n",
      "98/98 [==============================] - 6s 65ms/step - loss: 9.2691 - accuracy: 0.0991 - val_loss: 9.3001 - val_accuracy: 0.1000\n",
      "Epoch 6/10\n",
      "98/98 [==============================] - 6s 66ms/step - loss: 9.2725 - accuracy: 0.1008 - val_loss: 9.3001 - val_accuracy: 0.1000\n",
      "Epoch 7/10\n",
      "98/98 [==============================] - 6s 65ms/step - loss: 9.3552 - accuracy: 0.1010 - val_loss: 9.3001 - val_accuracy: 0.1000\n",
      "Epoch 8/10\n",
      "98/98 [==============================] - 9s 96ms/step - loss: 9.3675 - accuracy: 0.0992 - val_loss: 9.3001 - val_accuracy: 0.1000\n",
      "Epoch 9/10\n",
      "98/98 [==============================] - 6s 61ms/step - loss: 9.3310 - accuracy: 0.0990 - val_loss: 9.3001 - val_accuracy: 0.1000\n",
      "Epoch 10/10\n",
      "98/98 [==============================] - 6s 57ms/step - loss: 9.3765 - accuracy: 0.0990 - val_loss: 9.3001 - val_accuracy: 0.1000\n"
     ]
    },
    {
     "data": {
      "text/plain": [
       "<tensorflow.python.keras.callbacks.History at 0x7fc34c9cdee0>"
      ]
     },
     "execution_count": 16,
     "metadata": {},
     "output_type": "execute_result"
    }
   ],
   "source": [
    "model3.fit(X_train, y_train,\n",
    "              batch_size=batch_size,\n",
    "              epochs=epochs,\n",
    "              validation_data=(X_test, y_test),\n",
    "              shuffle=True)"
   ]
  },
  {
   "cell_type": "code",
   "execution_count": 17,
   "metadata": {},
   "outputs": [
    {
     "name": "stdout",
     "output_type": "stream",
     "text": [
      "313/313 [==============================] - 1s 4ms/step - loss: 9.3001 - accuracy: 0.1000\n",
      "Test loss: 9.300135612487793\n",
      "Test accuracy: 0.10000000149011612\n"
     ]
    }
   ],
   "source": [
    "# проверка работы обученной модели\n",
    "scores = model3.evaluate(X_test, y_test, verbose=1)\n",
    "print('Test loss:', scores[0])\n",
    "print('Test accuracy:', scores[1])\n",
    "\n",
    "y_p = model3.predict(X_test[N:N+1])\n",
    "y_t = np.argmax(y_test[N:N+1], axis = 1 )\n",
    "y_i = np.argmax(y_p, axis = 1 )\n",
    "\n",
    "new_row = {'Модель':'Полносвязная', 'Train':classes[y_t[0]], 'Test': classes[y_i[0]], \\\n",
    "           'loss':round(scores[0], 4), 'accuracy':round(scores[1], 4)}\n",
    "score = score.append(new_row, ignore_index=True)"
   ]
  },
  {
   "cell_type": "code",
   "execution_count": 18,
   "metadata": {},
   "outputs": [
    {
     "data": {
      "text/html": [
       "<div>\n",
       "<style scoped>\n",
       "    .dataframe tbody tr th:only-of-type {\n",
       "        vertical-align: middle;\n",
       "    }\n",
       "\n",
       "    .dataframe tbody tr th {\n",
       "        vertical-align: top;\n",
       "    }\n",
       "\n",
       "    .dataframe thead th {\n",
       "        text-align: right;\n",
       "    }\n",
       "</style>\n",
       "<table border=\"1\" class=\"dataframe\">\n",
       "  <thead>\n",
       "    <tr style=\"text-align: right;\">\n",
       "      <th></th>\n",
       "      <th>Модель</th>\n",
       "      <th>Train</th>\n",
       "      <th>Test</th>\n",
       "      <th>loss</th>\n",
       "      <th>accuracy</th>\n",
       "    </tr>\n",
       "  </thead>\n",
       "  <tbody>\n",
       "    <tr>\n",
       "      <th>0</th>\n",
       "      <td>CNN базовая</td>\n",
       "      <td>самолет</td>\n",
       "      <td>корабль</td>\n",
       "      <td>1.7268</td>\n",
       "      <td>0.3839</td>\n",
       "    </tr>\n",
       "    <tr>\n",
       "      <th>1</th>\n",
       "      <td>CNN c увеличением каналов</td>\n",
       "      <td>самолет</td>\n",
       "      <td>корабль</td>\n",
       "      <td>1.7358</td>\n",
       "      <td>0.3820</td>\n",
       "    </tr>\n",
       "    <tr>\n",
       "      <th>2</th>\n",
       "      <td>CNN c увеличением слоев</td>\n",
       "      <td>самолет</td>\n",
       "      <td>самолет</td>\n",
       "      <td>1.9613</td>\n",
       "      <td>0.2900</td>\n",
       "    </tr>\n",
       "    <tr>\n",
       "      <th>3</th>\n",
       "      <td>Полносвязная</td>\n",
       "      <td>самолет</td>\n",
       "      <td>лягушка</td>\n",
       "      <td>9.3001</td>\n",
       "      <td>0.1000</td>\n",
       "    </tr>\n",
       "  </tbody>\n",
       "</table>\n",
       "</div>"
      ],
      "text/plain": [
       "                      Модель    Train     Test    loss  accuracy\n",
       "0                CNN базовая  самолет  корабль  1.7268    0.3839\n",
       "1  CNN c увеличением каналов  самолет  корабль  1.7358    0.3820\n",
       "2    CNN c увеличением слоев  самолет  самолет  1.9613    0.2900\n",
       "3               Полносвязная  самолет  лягушка  9.3001    0.1000"
      ]
     },
     "execution_count": 18,
     "metadata": {},
     "output_type": "execute_result"
    }
   ],
   "source": [
    "score"
   ]
  },
  {
   "cell_type": "markdown",
   "metadata": {},
   "source": [
    "### Вывод: - самый лучший результат у модели CNN с увеличением слоев."
   ]
  },
  {
   "cell_type": "code",
   "execution_count": null,
   "metadata": {},
   "outputs": [],
   "source": []
  }
 ],
 "metadata": {
  "kernelspec": {
   "display_name": "Python 3",
   "language": "python",
   "name": "python3"
  },
  "language_info": {
   "codemirror_mode": {
    "name": "ipython",
    "version": 3
   },
   "file_extension": ".py",
   "mimetype": "text/x-python",
   "name": "python",
   "nbconvert_exporter": "python",
   "pygments_lexer": "ipython3",
   "version": "3.8.5"
  }
 },
 "nbformat": 4,
 "nbformat_minor": 4
}
