{
 "cells": [
  {
   "cell_type": "markdown",
   "metadata": {},
   "source": [
    "## Практическое задание\n",
    "### Используем набор примеров fashion-MNIST\n",
    "Опишите - какой результата получен в нейросети в зависимости от:  \n",
    "числа нейронов в слое(для 2-хслойной сети),  \n",
    "числа слоев (2, 3, 5, 10) при близких размерах сети (близкое число тренируемых парметров).  \n",
    "фиксируйте для тренировочного и тестового набора метрики accuracy.  \n",
    "Проверьте работу разных оптимизаторов (SGD, Adam, RMSProp) для одной из моделей п.1.Фиксируйте для тренировочного и тестового набора метрики accuracy.  \n",
    "Сделайте вывод - что помогло вам улучшить качество классификации в нейросети на тестовом наборе?  \n",
    "Для одного варианта сетей сформируйте матрицу ошибок по классам. Оцените качество модели по каждому классу отдельно (полнота , точность)  "
   ]
  },
  {
   "cell_type": "code",
   "execution_count": 1,
   "metadata": {},
   "outputs": [],
   "source": [
    "import numpy as np\n",
    "import pandas as pd\n",
    "import matplotlib.pyplot as plt\n",
    "from sklearn.metrics import confusion_matrix\n",
    "from sklearn.metrics import classification_report\n",
    "import keras\n",
    "from keras.layers import Dense\n",
    "from keras.models import Sequential\n",
    "from keras.utils import to_categorical\n",
    "from keras.datasets import fashion_mnist\n",
    "from keras.models import load_model\n",
    "import tensorflow as tf"
   ]
  },
  {
   "cell_type": "code",
   "execution_count": 2,
   "metadata": {},
   "outputs": [
    {
     "name": "stdout",
     "output_type": "stream",
     "text": [
      "(60000, 28, 28) (10000, 28, 28)\n",
      "(60000,)\n"
     ]
    }
   ],
   "source": [
    "(X_train, y_train_labels), (X_test, y_test_labels) = fashion_mnist.load_data()\n",
    "\n",
    "print(X_train.shape, X_test.shape)\n",
    "print(y_train_labels.shape)"
   ]
  },
  {
   "cell_type": "code",
   "execution_count": 3,
   "metadata": {},
   "outputs": [
    {
     "data": {
      "image/png": "[encoded data removed]",
      "text/plain": [
       "<Figure size 432x288 with 1 Axes>"
      ]
     },
     "metadata": {
      "needs_background": "light"
     },
     "output_type": "display_data"
    }
   ],
   "source": [
    "from keras.datasets import fashion_mnist\n",
    "(train_images,train_labels),(test_images,test_labels)=fashion_mnist.load_data()\n",
    "plt.imshow(train_images[5,:,:])\n",
    "plt.show()"
   ]
  },
  {
   "cell_type": "code",
   "execution_count": 4,
   "metadata": {},
   "outputs": [
    {
     "data": {
      "text/plain": [
       "(0, 255)"
      ]
     },
     "execution_count": 4,
     "metadata": {},
     "output_type": "execute_result"
    }
   ],
   "source": [
    "X_train.min(), X_train.max()"
   ]
  },
  {
   "cell_type": "code",
   "execution_count": 5,
   "metadata": {},
   "outputs": [
    {
     "data": {
      "text/plain": [
       "(0.0, 1.0)"
      ]
     },
     "execution_count": 5,
     "metadata": {},
     "output_type": "execute_result"
    }
   ],
   "source": [
    "X_train = X_train / 255.0\n",
    "X_test = X_test / 255.0\n",
    "X_train.min(), X_train.max()"
   ]
  },
  {
   "cell_type": "code",
   "execution_count": 6,
   "metadata": {},
   "outputs": [
    {
     "data": {
      "text/plain": [
       "((60000, 784), (10000, 784))"
      ]
     },
     "execution_count": 6,
     "metadata": {},
     "output_type": "execute_result"
    }
   ],
   "source": [
    "X_train = X_train.reshape((-1, 28 * 28))\n",
    "X_test = X_test.reshape((-1, 28 * 28))\n",
    "X_train.shape, X_test.shape"
   ]
  },
  {
   "cell_type": "markdown",
   "metadata": {},
   "source": [
    "## 1. Опишите - какой результат нейросети получен в зависимости от:\n",
    "числа нейронов в слое (для 2-х слойной сети),  \n",
    "числа слоев (2, 3, 5, 10) при близких размерах сети (близкое число тренируемых параметров).  \n",
    "фиксируйте для тренировочного и тестового набора метрики accuracy."
   ]
  },
  {
   "cell_type": "code",
   "execution_count": 7,
   "metadata": {},
   "outputs": [],
   "source": [
    "y_train = to_categorical(y_train_labels)\n",
    "y_test = to_categorical(y_test_labels)\n",
    "stats = pd.DataFrame(columns=['Модель', 'Нейроны', 'Train', 'Test'])\n",
    "best_metric = 0"
   ]
  },
  {
   "cell_type": "code",
   "execution_count": 8,
   "metadata": {},
   "outputs": [],
   "source": [
    "def model_two_layers(neuron):\n",
    "    model = Sequential()\n",
    "    model.add(Dense(neuron[0], input_shape=(28 * 28,), activation='relu'),)\n",
    "    model.add(Dense(neuron[1], activation='sigmoid'))\n",
    "    model.compile(loss='categorical_crossentropy', optimizer='SGD', metrics=['accuracy'])\n",
    "    model.fit(X_train, y_train, epochs=5, batch_size=10, verbose=0)\n",
    "    return model"
   ]
  },
  {
   "cell_type": "code",
   "execution_count": 9,
   "metadata": {},
   "outputs": [
    {
     "name": "stdout",
     "output_type": "stream",
     "text": [
      "6000/6000 [==============================] - 8s 1ms/step - loss: 0.3757 - accuracy: 0.8695\n",
      "1000/1000 [==============================] - 1s 1ms/step - loss: 0.4213 - accuracy: 0.8520\n",
      "6000/6000 [==============================] - 6s 944us/step - loss: 0.3556 - accuracy: 0.8733\n",
      "1000/1000 [==============================] - 1s 928us/step - loss: 0.4051 - accuracy: 0.8548\n",
      "6000/6000 [==============================] - 6s 996us/step - loss: 0.3555 - accuracy: 0.8745\n",
      "1000/1000 [==============================] - 1s 1ms/step - loss: 0.4073 - accuracy: 0.8549\n"
     ]
    }
   ],
   "source": [
    "neurons = [[32, 10], [64, 10], [128, 10]]\n",
    "for neuron in neurons:\n",
    "    model2 = model_two_layers(neuron)\n",
    "    loss_train, metric_train = model2.evaluate(X_train, y_train, batch_size=10)\n",
    "    loss_test, metric_test = model2.evaluate(X_test, y_test, batch_size=10)\n",
    "    new_row = {'Модель': '2 слоя', 'Нейроны': neuron, 'Train': metric_train, 'Test':metric_test}\n",
    "    stats = stats.append(new_row, ignore_index=True)"
   ]
  },
  {
   "cell_type": "code",
   "execution_count": 10,
   "metadata": {},
   "outputs": [],
   "source": [
    "def model_three_layers(neuron):\n",
    "    model = Sequential()\n",
    "    model.add(Dense(neuron[0], input_shape=(28 * 28,), activation='relu'))\n",
    "    model.add(Dense(neuron[1], activation='relu'))\n",
    "    model.add(Dense(neuron[2], activation='sigmoid'))\n",
    "    model.compile(loss='categorical_crossentropy', optimizer='SGD', metrics=['accuracy'])\n",
    "    model.fit(X_train, y_train, epochs=5, batch_size=10, verbose=0)\n",
    "    return model"
   ]
  },
  {
   "cell_type": "code",
   "execution_count": 11,
   "metadata": {},
   "outputs": [
    {
     "name": "stdout",
     "output_type": "stream",
     "text": [
      "6000/6000 [==============================] - 6s 1ms/step - loss: 0.3456 - accuracy: 0.8734\n",
      "1000/1000 [==============================] - 1s 1ms/step - loss: 0.3985 - accuracy: 0.8570\n",
      "6000/6000 [==============================] - 6s 1ms/step - loss: 0.3317 - accuracy: 0.8823\n",
      "1000/1000 [==============================] - 1s 983us/step - loss: 0.3836 - accuracy: 0.8645\n",
      "6000/6000 [==============================] - 7s 1ms/step - loss: 0.3199 - accuracy: 0.8838\n",
      "1000/1000 [==============================] - 1s 1ms/step - loss: 0.3801 - accuracy: 0.8618\n"
     ]
    }
   ],
   "source": [
    "neurons = [[32, 16, 10], [64, 32, 10], [128, 64, 10]]\n",
    "for neuron in neurons:\n",
    "    model3 = model_three_layers(neuron)\n",
    "    loss_train, metric_train = model3.evaluate(X_train, y_train, batch_size=10)\n",
    "    loss_test, metric_test = model3.evaluate(X_test, y_test, batch_size=10)\n",
    "    if metric_test > best_metric:\n",
    "        best_metric = metric_test\n",
    "        model3.save('models/02_dz_best_model.h5')\n",
    "    new_row = {'Модель': '3 слоя', 'Нейроны': neuron, 'Train': metric_train, 'Test':metric_test}\n",
    "    stats = stats.append(new_row, ignore_index=True)"
   ]
  },
  {
   "cell_type": "code",
   "execution_count": 12,
   "metadata": {},
   "outputs": [],
   "source": [
    "def model_five_layers(neuron):\n",
    "    model = Sequential()\n",
    "    model.add(Dense(neuron[0], input_shape=(28 * 28,), activation='relu'))\n",
    "    model.add(Dense(neuron[1], activation='relu'))\n",
    "    model.add(Dense(neuron[2], activation='relu'))\n",
    "    model.add(Dense(neuron[3], activation='relu'))\n",
    "    model.add(Dense(neuron[4], activation='sigmoid'))\n",
    "    model.compile(loss='categorical_crossentropy', optimizer='SGD', metrics=['accuracy'])\n",
    "    model.fit(X_train, y_train, epochs=5, batch_size=10, verbose=0)\n",
    "    return model"
   ]
  },
  {
   "cell_type": "code",
   "execution_count": 13,
   "metadata": {},
   "outputs": [
    {
     "name": "stdout",
     "output_type": "stream",
     "text": [
      "6000/6000 [==============================] - 6s 1ms/step - loss: 0.3866 - accuracy: 0.8603\n",
      "1000/1000 [==============================] - 1s 1ms/step - loss: 0.4476 - accuracy: 0.8408\n",
      "6000/6000 [==============================] - 7s 1ms/step - loss: 0.3305 - accuracy: 0.8781\n",
      "1000/1000 [==============================] - 1s 1ms/step - loss: 0.3960 - accuracy: 0.8557\n",
      "6000/6000 [==============================] - 7s 1ms/step - loss: 0.3050 - accuracy: 0.8865\n",
      "1000/1000 [==============================] - 1s 1ms/step - loss: 0.3769 - accuracy: 0.8630\n"
     ]
    }
   ],
   "source": [
    "neurons = [[32, 16, 16, 16, 10], [64, 32, 32, 16, 10], [128, 64, 32, 16, 10]]\n",
    "for neuron in neurons:\n",
    "    model5 = model_five_layers(neuron)\n",
    "    loss_train, metric_train = model5.evaluate(X_train, y_train, batch_size=10)\n",
    "    loss_test, metric_test = model5.evaluate(X_test, y_test, batch_size=10)\n",
    "    if metric_test > best_metric:\n",
    "        best_metric = metric_test\n",
    "        model3.save('models/02_dz_best_model.h5')\n",
    "    new_row = {'Модель': '5 слоев', 'Нейроны': neuron, 'Train': metric_train, 'Test':metric_test}\n",
    "    stats = stats.append(new_row, ignore_index=True)"
   ]
  },
  {
   "cell_type": "code",
   "execution_count": 14,
   "metadata": {},
   "outputs": [],
   "source": [
    "def model_ten_layers(neuron): \n",
    "    model = Sequential()\n",
    "    model.add(Dense(neuron[0], input_shape=(28 * 28,), activation='relu'))\n",
    "    model.add(Dense(neuron[1], activation='relu'))\n",
    "    model.add(Dense(neuron[2], activation='relu'))\n",
    "    model.add(Dense(neuron[3], activation='relu'))\n",
    "    model.add(Dense(neuron[4], activation='relu'))\n",
    "    model.add(Dense(neuron[5], activation='relu'))\n",
    "    model.add(Dense(neuron[6], activation='relu'))\n",
    "    model.add(Dense(neuron[7], activation='relu'))\n",
    "    model.add(Dense(neuron[8], activation='relu'))\n",
    "    model.add(Dense(neuron[9], activation='sigmoid'))\n",
    "    model.compile(loss='categorical_crossentropy', optimizer='SGD', metrics=['accuracy'])\n",
    "    model.fit(X_train, y_train, epochs=5, batch_size=10, verbose=0)\n",
    "    return model"
   ]
  },
  {
   "cell_type": "code",
   "execution_count": 15,
   "metadata": {},
   "outputs": [
    {
     "name": "stdout",
     "output_type": "stream",
     "text": [
      "6000/6000 [==============================] - 7s 1ms/step - loss: 0.3844 - accuracy: 0.8652\n",
      "1000/1000 [==============================] - 1s 1ms/step - loss: 0.4413 - accuracy: 0.8432\n",
      "6000/6000 [==============================] - 7s 1ms/step - loss: 0.3584 - accuracy: 0.8730\n",
      "1000/1000 [==============================] - 1s 1ms/step - loss: 0.4160 - accuracy: 0.8558\n",
      "6000/6000 [==============================] - 7s 1ms/step - loss: 0.3879 - accuracy: 0.8628\n",
      "1000/1000 [==============================] - 1s 1ms/step - loss: 0.4577 - accuracy: 0.8435\n"
     ]
    }
   ],
   "source": [
    "neurons = [[32, 16, 16, 16, 16, 16, 16, 16, 16, 10], \n",
    "           [64, 32, 32, 32, 32, 16, 16, 16, 16, 10], \n",
    "           [128, 64, 64, 64, 32, 32, 32, 16, 16, 10]]\n",
    "for neuron in neurons:\n",
    "    model10 = model_ten_layers(neuron)\n",
    "    loss_train, metric_train = model10.evaluate(X_train, y_train, batch_size=10)\n",
    "    loss_test, metric_test = model10.evaluate(X_test, y_test, batch_size=10)\n",
    "    if metric_test > best_metric:\n",
    "        best_metric = metric_test\n",
    "        model3.save('models/02_dz_best_model.h5')\n",
    "    new_row = {'Модель': '10 слоев', 'Нейроны': neuron, 'Train': metric_train, 'Test':metric_test}\n",
    "    stats = stats.append(new_row, ignore_index=True)"
   ]
  },
  {
   "cell_type": "code",
   "execution_count": 16,
   "metadata": {},
   "outputs": [
    {
     "data": {
      "text/html": [
       "<div>\n",
       "<style scoped>\n",
       "    .dataframe tbody tr th:only-of-type {\n",
       "        vertical-align: middle;\n",
       "    }\n",
       "\n",
       "    .dataframe tbody tr th {\n",
       "        vertical-align: top;\n",
       "    }\n",
       "\n",
       "    .dataframe thead th {\n",
       "        text-align: right;\n",
       "    }\n",
       "</style>\n",
       "<table border=\"1\" class=\"dataframe\">\n",
       "  <thead>\n",
       "    <tr style=\"text-align: right;\">\n",
       "      <th></th>\n",
       "      <th>Модель</th>\n",
       "      <th>Нейроны</th>\n",
       "      <th>Train</th>\n",
       "      <th>Test</th>\n",
       "    </tr>\n",
       "  </thead>\n",
       "  <tbody>\n",
       "    <tr>\n",
       "      <th>0</th>\n",
       "      <td>2 слоя</td>\n",
       "      <td>[32, 10]</td>\n",
       "      <td>0.869467</td>\n",
       "      <td>0.8520</td>\n",
       "    </tr>\n",
       "    <tr>\n",
       "      <th>3</th>\n",
       "      <td>3 слоя</td>\n",
       "      <td>[32, 16, 10]</td>\n",
       "      <td>0.873383</td>\n",
       "      <td>0.8570</td>\n",
       "    </tr>\n",
       "    <tr>\n",
       "      <th>6</th>\n",
       "      <td>5 слоев</td>\n",
       "      <td>[32, 16, 16, 16, 10]</td>\n",
       "      <td>0.860317</td>\n",
       "      <td>0.8408</td>\n",
       "    </tr>\n",
       "    <tr>\n",
       "      <th>9</th>\n",
       "      <td>10 слоев</td>\n",
       "      <td>[32, 16, 16, 16, 16, 16, 16, 16, 16, 10]</td>\n",
       "      <td>0.865250</td>\n",
       "      <td>0.8432</td>\n",
       "    </tr>\n",
       "    <tr>\n",
       "      <th>1</th>\n",
       "      <td>2 слоя</td>\n",
       "      <td>[64, 10]</td>\n",
       "      <td>0.873333</td>\n",
       "      <td>0.8548</td>\n",
       "    </tr>\n",
       "    <tr>\n",
       "      <th>4</th>\n",
       "      <td>3 слоя</td>\n",
       "      <td>[64, 32, 10]</td>\n",
       "      <td>0.882300</td>\n",
       "      <td>0.8645</td>\n",
       "    </tr>\n",
       "    <tr>\n",
       "      <th>7</th>\n",
       "      <td>5 слоев</td>\n",
       "      <td>[64, 32, 32, 16, 10]</td>\n",
       "      <td>0.878083</td>\n",
       "      <td>0.8557</td>\n",
       "    </tr>\n",
       "    <tr>\n",
       "      <th>10</th>\n",
       "      <td>10 слоев</td>\n",
       "      <td>[64, 32, 32, 32, 32, 16, 16, 16, 16, 10]</td>\n",
       "      <td>0.872967</td>\n",
       "      <td>0.8558</td>\n",
       "    </tr>\n",
       "    <tr>\n",
       "      <th>2</th>\n",
       "      <td>2 слоя</td>\n",
       "      <td>[128, 10]</td>\n",
       "      <td>0.874500</td>\n",
       "      <td>0.8549</td>\n",
       "    </tr>\n",
       "    <tr>\n",
       "      <th>5</th>\n",
       "      <td>3 слоя</td>\n",
       "      <td>[128, 64, 10]</td>\n",
       "      <td>0.883850</td>\n",
       "      <td>0.8618</td>\n",
       "    </tr>\n",
       "    <tr>\n",
       "      <th>8</th>\n",
       "      <td>5 слоев</td>\n",
       "      <td>[128, 64, 32, 16, 10]</td>\n",
       "      <td>0.886483</td>\n",
       "      <td>0.8630</td>\n",
       "    </tr>\n",
       "    <tr>\n",
       "      <th>11</th>\n",
       "      <td>10 слоев</td>\n",
       "      <td>[128, 64, 64, 64, 32, 32, 32, 16, 16, 10]</td>\n",
       "      <td>0.862833</td>\n",
       "      <td>0.8435</td>\n",
       "    </tr>\n",
       "  </tbody>\n",
       "</table>\n",
       "</div>"
      ],
      "text/plain": [
       "      Модель                                    Нейроны     Train    Test\n",
       "0     2 слоя                                   [32, 10]  0.869467  0.8520\n",
       "3     3 слоя                               [32, 16, 10]  0.873383  0.8570\n",
       "6    5 слоев                       [32, 16, 16, 16, 10]  0.860317  0.8408\n",
       "9   10 слоев   [32, 16, 16, 16, 16, 16, 16, 16, 16, 10]  0.865250  0.8432\n",
       "1     2 слоя                                   [64, 10]  0.873333  0.8548\n",
       "4     3 слоя                               [64, 32, 10]  0.882300  0.8645\n",
       "7    5 слоев                       [64, 32, 32, 16, 10]  0.878083  0.8557\n",
       "10  10 слоев   [64, 32, 32, 32, 32, 16, 16, 16, 16, 10]  0.872967  0.8558\n",
       "2     2 слоя                                  [128, 10]  0.874500  0.8549\n",
       "5     3 слоя                              [128, 64, 10]  0.883850  0.8618\n",
       "8    5 слоев                      [128, 64, 32, 16, 10]  0.886483  0.8630\n",
       "11  10 слоев  [128, 64, 64, 64, 32, 32, 32, 16, 16, 10]  0.862833  0.8435"
      ]
     },
     "execution_count": 16,
     "metadata": {},
     "output_type": "execute_result"
    }
   ],
   "source": [
    "stats = stats.sort_values('Нейроны')\n",
    "stats"
   ]
  },
  {
   "cell_type": "code",
   "execution_count": 17,
   "metadata": {},
   "outputs": [
    {
     "data": {
      "image/png": "[encoded data removed]",
      "text/plain": [
       "<Figure size 1440x360 with 1 Axes>"
      ]
     },
     "metadata": {
      "needs_background": "light"
     },
     "output_type": "display_data"
    }
   ],
   "source": [
    "train_acc = stats['Train']\n",
    "test_acc = stats['Test']\n",
    "plt.figure(figsize=(20, 5))\n",
    "plt.plot(train_acc[:4], label='train_32', c='g')\n",
    "plt.plot(test_acc[:4], label='test_32', c='g', linestyle='--')\n",
    "plt.plot(train_acc[4:8], label='train_64', c='b')\n",
    "plt.plot(test_acc[4:8], label='test_64', c='b', linestyle='--')\n",
    "plt.plot(train_acc[8:], label='train_128', c='r')\n",
    "plt.plot(test_acc[8:], label='test_128', c='r', linestyle='--')\n",
    "plt.legend();"
   ]
  },
  {
   "cell_type": "markdown",
   "metadata": {},
   "source": [
    "### Вывод:\n",
    "- увеличение количества нейронов в сети не всегда улучшает качество модели  \n",
    "- увеличение количества слоев без увеличения размера сети не дает ожидаемой линейности (чем больше слоев, тем выше результат).  "
   ]
  },
  {
   "cell_type": "markdown",
   "metadata": {},
   "source": [
    "### 2. Проверьте работу разных оптимизаторов (SGD, Adam, RMSProp) для одной из моделей п.1. Фиксируйте для тренировочного и тестового набора метрики accuracy.¶"
   ]
  },
  {
   "cell_type": "code",
   "execution_count": 18,
   "metadata": {},
   "outputs": [
    {
     "name": "stdout",
     "output_type": "stream",
     "text": [
      "Model: \"sequential_4\"\n",
      "_________________________________________________________________\n",
      "Layer (type)                 Output Shape              Param #   \n",
      "=================================================================\n",
      "dense_9 (Dense)              (None, 64)                50240     \n",
      "_________________________________________________________________\n",
      "dense_10 (Dense)             (None, 32)                2080      \n",
      "_________________________________________________________________\n",
      "dense_11 (Dense)             (None, 10)                330       \n",
      "=================================================================\n",
      "Total params: 52,650\n",
      "Trainable params: 52,650\n",
      "Non-trainable params: 0\n",
      "_________________________________________________________________\n"
     ]
    }
   ],
   "source": [
    "model = load_model('models/02_dz_best_model.h5')\n",
    "model.summary()"
   ]
  },
  {
   "cell_type": "code",
   "execution_count": 19,
   "metadata": {},
   "outputs": [
    {
     "name": "stdout",
     "output_type": "stream",
     "text": [
      "6000/6000 [==============================] - 6s 977us/step - loss: 0.2928 - accuracy: 0.8896\n",
      "1000/1000 [==============================] - 1s 982us/step - loss: 0.3683 - accuracy: 0.8664\n",
      "6000/6000 [==============================] - 6s 1ms/step - loss: 0.4131 - accuracy: 0.8701\n",
      "1000/1000 [==============================] - 1s 986us/step - loss: 0.5516 - accuracy: 0.8461\n",
      "6000/6000 [==============================] - 6s 997us/step - loss: 0.2879 - accuracy: 0.8939\n",
      "1000/1000 [==============================] - 1s 976us/step - loss: 0.3953 - accuracy: 0.8712\n"
     ]
    }
   ],
   "source": [
    "stats_optim = pd.DataFrame(columns=['Слоев', 'Оптимизатор', 'Train', 'Test'])\n",
    "optimizers = {'SGD': keras.optimizers.SGD(),\n",
    "              'RMSprop': keras.optimizers.RMSprop(),\n",
    "              'Adam': keras.optimizers.Adam()}\n",
    "model_i = model\n",
    "layers = len(model.get_config()['layers'])-1\n",
    "for i, i_optim in optimizers.items():\n",
    "    model_i.compile(loss='categorical_crossentropy', optimizer=i_optim, metrics=['accuracy'])\n",
    "    model_i.fit(X_train, y_train, epochs=5, batch_size=10, verbose=0)\n",
    "    loss_train, metric_train = model_i.evaluate(X_train, y_train, batch_size=10)\n",
    "    loss_test, metric_test = model_i.evaluate(X_test, y_test, batch_size=10)\n",
    "    new_row = {'Слоев': layers, 'Оптимизатор': i, 'Train': metric_train, 'Test': metric_test}\n",
    "    stats_optim = stats_optim.append(new_row, ignore_index=True)"
   ]
  },
  {
   "cell_type": "markdown",
   "metadata": {},
   "source": [
    "### 3. Сделайте вывод - что помогло вам улучшить качество классификации в нейросети на тестовом наборе?"
   ]
  },
  {
   "cell_type": "code",
   "execution_count": 20,
   "metadata": {},
   "outputs": [
    {
     "data": {
      "text/html": [
       "<div>\n",
       "<style scoped>\n",
       "    .dataframe tbody tr th:only-of-type {\n",
       "        vertical-align: middle;\n",
       "    }\n",
       "\n",
       "    .dataframe tbody tr th {\n",
       "        vertical-align: top;\n",
       "    }\n",
       "\n",
       "    .dataframe thead th {\n",
       "        text-align: right;\n",
       "    }\n",
       "</style>\n",
       "<table border=\"1\" class=\"dataframe\">\n",
       "  <thead>\n",
       "    <tr style=\"text-align: right;\">\n",
       "      <th></th>\n",
       "      <th>Слоев</th>\n",
       "      <th>Оптимизатор</th>\n",
       "      <th>Train</th>\n",
       "      <th>Test</th>\n",
       "    </tr>\n",
       "  </thead>\n",
       "  <tbody>\n",
       "    <tr>\n",
       "      <th>0</th>\n",
       "      <td>3</td>\n",
       "      <td>SGD</td>\n",
       "      <td>0.889650</td>\n",
       "      <td>0.8664</td>\n",
       "    </tr>\n",
       "    <tr>\n",
       "      <th>1</th>\n",
       "      <td>3</td>\n",
       "      <td>RMSprop</td>\n",
       "      <td>0.870083</td>\n",
       "      <td>0.8461</td>\n",
       "    </tr>\n",
       "    <tr>\n",
       "      <th>2</th>\n",
       "      <td>3</td>\n",
       "      <td>Adam</td>\n",
       "      <td>0.893867</td>\n",
       "      <td>0.8712</td>\n",
       "    </tr>\n",
       "  </tbody>\n",
       "</table>\n",
       "</div>"
      ],
      "text/plain": [
       "  Слоев Оптимизатор     Train    Test\n",
       "0     3         SGD  0.889650  0.8664\n",
       "1     3     RMSprop  0.870083  0.8461\n",
       "2     3        Adam  0.893867  0.8712"
      ]
     },
     "execution_count": 20,
     "metadata": {},
     "output_type": "execute_result"
    }
   ],
   "source": [
    "stats_optim"
   ]
  },
  {
   "cell_type": "markdown",
   "metadata": {},
   "source": [
    "### Вывод:\n",
    "- качество модели повысилось при применении 3-х слойной нейросети (128, 64, 10) и оптимизатора SGD"
   ]
  },
  {
   "cell_type": "markdown",
   "metadata": {},
   "source": [
    "### 4. Для одного варианта сети сформируйте матрицу ошибок по классам. Оцените качество модели по каждому классу отдельно (полнота, точность)."
   ]
  },
  {
   "cell_type": "code",
   "execution_count": 21,
   "metadata": {},
   "outputs": [
    {
     "name": "stdout",
     "output_type": "stream",
     "text": [
      "[[833   2  17  14   6   1 115   0  12   0]\n",
      " [  2 969   3  17   3   2   3   0   1   0]\n",
      " [ 16   1 788   7 119   0  63   0   6   0]\n",
      " [ 18   6  21 877  43   0  31   0   4   0]\n",
      " [  0   0  90  22 849   0  34   0   5   0]\n",
      " [  0   0   0   1   0 966   1  18   4  10]\n",
      " [115   1  95  28  91   0 660   0  10   0]\n",
      " [  0   0   0   0   0  10   0 963   1  26]\n",
      " [  2   0   4   5   3   2   3   2 979   0]\n",
      " [  0   1   0   0   0   7   1  38   0 953]]\n"
     ]
    }
   ],
   "source": [
    "model_f = model\n",
    "model_f.compile(loss='categorical_crossentropy', optimizer='SGD', metrics=['accuracy'])   \n",
    "model_f.fit(X_train, y_train, epochs=5, batch_size=10, verbose=0)\n",
    "predicted_outputs = np.argmax(model_f.predict(X_test), axis=1)\n",
    "expected_outputs = np.argmax(y_test, axis=1)\n",
    "predicted_confusion_matrix = confusion_matrix(expected_outputs, predicted_outputs)\n",
    "print(predicted_confusion_matrix)"
   ]
  },
  {
   "cell_type": "code",
   "execution_count": 22,
   "metadata": {},
   "outputs": [
    {
     "name": "stdout",
     "output_type": "stream",
     "text": [
      "              precision    recall  f1-score   support\n",
      "\n",
      "           0       0.84      0.83      0.84      1000\n",
      "           1       0.99      0.97      0.98      1000\n",
      "           2       0.77      0.79      0.78      1000\n",
      "           3       0.90      0.88      0.89      1000\n",
      "           4       0.76      0.85      0.80      1000\n",
      "           5       0.98      0.97      0.97      1000\n",
      "           6       0.72      0.66      0.69      1000\n",
      "           7       0.94      0.96      0.95      1000\n",
      "           8       0.96      0.98      0.97      1000\n",
      "           9       0.96      0.95      0.96      1000\n",
      "\n",
      "    accuracy                           0.88     10000\n",
      "   macro avg       0.88      0.88      0.88     10000\n",
      "weighted avg       0.88      0.88      0.88     10000\n",
      "\n"
     ]
    }
   ],
   "source": [
    "pred = model_f.predict(X_test)\n",
    "predicted = np.argmax(pred, axis=1)\n",
    "report = classification_report(np.argmax(y_test, axis=1), predicted)\n",
    "print(report)"
   ]
  }
 ],
 "metadata": {
  "kernelspec": {
   "display_name": "Python 3",
   "language": "python",
   "name": "python3"
  },
  "language_info": {
   "codemirror_mode": {
    "name": "ipython",
    "version": 3
   },
   "file_extension": ".py",
   "mimetype": "text/x-python",
   "name": "python",
   "nbconvert_exporter": "python",
   "pygments_lexer": "ipython3",
   "version": "3.8.5"
  }
 },
 "nbformat": 4,
 "nbformat_minor": 4
}
